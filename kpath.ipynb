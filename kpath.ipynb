{
 "cells": [
  {
   "cell_type": "code",
   "execution_count": 53,
   "metadata": {},
   "outputs": [],
   "source": [
    "import sys\n",
    "import os\n",
    "from pymatgen.core.structure import Structure\n",
    "from pymatgen.symmetry.bandstructure import HighSymmKpath\n",
    "from pymatgen.symmetry.analyzer import SpacegroupAnalyzer"
   ]
  },
  {
   "cell_type": "code",
   "execution_count": 54,
   "metadata": {},
   "outputs": [],
   "source": [
    "poscar_path='/Users/gravityphy/CONTCAR-PdS2-vdw'"
   ]
  },
  {
   "cell_type": "code",
   "execution_count": 55,
   "metadata": {},
   "outputs": [],
   "source": [
    "struc=Structure.from_file(poscar_path)"
   ]
  },
  {
   "cell_type": "code",
   "execution_count": 56,
   "metadata": {},
   "outputs": [
    {
     "data": {
      "text/plain": [
       "Structure Summary\n",
       "Lattice\n",
       "    abc : 7.023730505783626 5.607242094145702 5.573830091541049\n",
       " angles : 90.0 90.0 90.0\n",
       " volume : 219.51837183518714\n",
       "      A : 7.023730505783626 0.0 0.0\n",
       "      B : -0.0 5.607242094145702 0.0\n",
       "      C : 0.0 0.0 5.573830091541049\n",
       "PeriodicSite: Pd (3.5119, 0.0000, 2.7869) [0.5000, -0.0000, 0.5000]\n",
       "PeriodicSite: Pd (0.0000, 2.8036, 2.7869) [0.0000, 0.5000, 0.5000]\n",
       "PeriodicSite: Pd (3.5119, 2.8036, 0.0000) [0.5000, 0.5000, 0.0000]\n",
       "PeriodicSite: Pd (0.0000, 0.0000, 0.0000) [0.0000, -0.0000, 0.0000]\n",
       "PeriodicSite: S (4.0896, 0.5811, 0.5774) [0.5823, 0.1036, 0.1036]\n",
       "PeriodicSite: S (0.5777, 2.2225, 4.9964) [0.0823, 0.3964, 0.8964]\n",
       "PeriodicSite: S (2.9341, 3.3847, 2.2095) [0.4177, 0.6036, 0.3964]\n",
       "PeriodicSite: S (6.4460, 5.0261, 3.3643) [0.9177, 0.8964, 0.6036]\n",
       "PeriodicSite: S (0.5777, 0.5811, 2.2095) [0.0823, 0.1036, 0.3964]\n",
       "PeriodicSite: S (4.0896, 2.2225, 3.3643) [0.5823, 0.3964, 0.6036]\n",
       "PeriodicSite: S (6.4460, 3.3847, 0.5774) [0.9177, 0.6036, 0.1036]\n",
       "PeriodicSite: S (2.9341, 5.0261, 4.9964) [0.4177, 0.8964, 0.8964]"
      ]
     },
     "execution_count": 56,
     "metadata": {},
     "output_type": "execute_result"
    }
   ],
   "source": [
    "struc"
   ]
  },
  {
   "cell_type": "code",
   "execution_count": 50,
   "metadata": {},
   "outputs": [],
   "source": [
    "spg=SpacegroupAnalyzer(struc).get_space_group_symbol()"
   ]
  },
  {
   "cell_type": "code",
   "execution_count": 51,
   "metadata": {},
   "outputs": [
    {
     "data": {
      "text/plain": [
       "'Pbca'"
      ]
     },
     "execution_count": 51,
     "metadata": {},
     "output_type": "execute_result"
    }
   ],
   "source": [
    "spg"
   ]
  },
  {
   "cell_type": "code",
   "execution_count": 41,
   "metadata": {},
   "outputs": [],
   "source": [
    "kpath = HighSymmKpath(struc)"
   ]
  },
  {
   "cell_type": "code",
   "execution_count": 42,
   "metadata": {
    "scrolled": true
   },
   "outputs": [
    {
     "data": {
      "text/plain": [
       "{'kpoints': {'\\\\Gamma': array([0., 0., 0.]),\n",
       "  'R': array([0.5, 0.5, 0.5]),\n",
       "  'S': array([0.5, 0.5, 0. ]),\n",
       "  'T': array([0. , 0.5, 0.5]),\n",
       "  'U': array([0.5, 0. , 0.5]),\n",
       "  'X': array([0.5, 0. , 0. ]),\n",
       "  'Y': array([0. , 0.5, 0. ]),\n",
       "  'Z': array([0. , 0. , 0.5])},\n",
       " 'path': [['\\\\Gamma', 'X', 'S', 'Y', '\\\\Gamma', 'Z', 'U', 'R', 'T', 'Z'],\n",
       "  ['Y', 'T'],\n",
       "  ['U', 'X'],\n",
       "  ['S', 'R']]}"
      ]
     },
     "execution_count": 42,
     "metadata": {},
     "output_type": "execute_result"
    }
   ],
   "source": [
    "kpath.kpath"
   ]
  },
  {
   "cell_type": "code",
   "execution_count": 9,
   "metadata": {},
   "outputs": [],
   "source": [
    "#poscar_path = (sys.argv[1])\n",
    "\n",
    "struc = Structure.from_file(poscar_path)\n",
    "kpath = HighSymmKpath(struc)\n",
    "\n",
    "file = open('kpath-mp','w')\n",
    "\n",
    "spg = SpacegroupAnalyzer(struc).get_space_group_symbol()\n",
    "\n",
    "file.write(spg + ' KPATH' + '\\n')\n",
    "file.write(str(16) + '\\n')\n",
    "file.write('Line-mode' + '\\n')\n",
    "file.write('reciprocal' + '\\n')\n",
    "\n",
    "kcoords = kpath.kpath['kpoints']\n",
    "path = kpath.kpath['path']\n",
    "\n",
    "for i in range(len(path)):\n",
    "    last = len(path[i]) - 1\n",
    "    for j in range(len(path[i])):\n",
    "        coords = kcoords[path[i][j]]\n",
    "        if j == 0:\n",
    "            file.write(' ' + str(coords[0]) + ' ' + str(coords[1]) + ' ' + str(coords[2]) + ' ! ' + path[i][j] + '\\n')\n",
    "        elif (j > 0 and j < last):\n",
    "            file.write(' ' + str(coords[0]) + ' ' + str(coords[1]) + ' ' + str(coords[2]) + ' ! ' + path[i][j] + '\\n' + '\\n')\n",
    "            file.write(' ' + str(coords[0]) + ' ' + str(coords[1]) + ' ' + str(coords[2]) + ' ! ' + path[i][j] + '\\n')\n",
    "        elif j == last:\n",
    "            file.write(' ' + str(coords[0]) + ' ' + str(coords[1]) + ' ' + str(coords[2]) + ' ! ' + path[i][j] + '\\n' + '\\n')\n",
    "\n",
    "file.close()\n",
    "\n"
   ]
  },
  {
   "cell_type": "code",
   "execution_count": null,
   "metadata": {},
   "outputs": [],
   "source": []
  },
  {
   "cell_type": "code",
   "execution_count": null,
   "metadata": {},
   "outputs": [],
   "source": []
  },
  {
   "cell_type": "code",
   "execution_count": null,
   "metadata": {},
   "outputs": [],
   "source": []
  }
 ],
 "metadata": {
  "kernelspec": {
   "display_name": "Python 3",
   "language": "python",
   "name": "python3"
  },
  "language_info": {
   "codemirror_mode": {
    "name": "ipython",
    "version": 3
   },
   "file_extension": ".py",
   "mimetype": "text/x-python",
   "name": "python",
   "nbconvert_exporter": "python",
   "pygments_lexer": "ipython3",
   "version": "3.6.3"
  }
 },
 "nbformat": 4,
 "nbformat_minor": 2
}
