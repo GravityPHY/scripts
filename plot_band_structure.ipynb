{
 "cells": [
  {
   "cell_type": "code",
   "execution_count": null,
   "metadata": {},
   "outputs": [],
   "source": [
    "import sys\n",
    "import os\n",
    "import numpy as np\n",
    "import pandas as pd\n",
    "from pylab import *\n",
    "import matplotlib.pyplot as plt\n",
    "%matplotlib inline"
   ]
  },
  {
   "cell_type": "code",
   "execution_count": null,
   "metadata": {},
   "outputs": [],
   "source": [
    "path = os.path.abspath('/your path') # input your own path here\n",
    "sys.path.append(path)"
   ]
  },
  {
   "cell_type": "code",
   "execution_count": null,
   "metadata": {},
   "outputs": [],
   "source": [
    "import make_band_struc # I think this is the same name as the python file I sent you, double check\n",
    "from make_band_struc import *\n",
    "\n",
    "from matplotlib import rc\n",
    "plt.rc('text', usetex=True)\n",
    "plt.rc('font', family='sans', weight = 700)\n",
    " \n",
    "###\n",
    "\n",
    "df = get_band_df(path_to_your_outcar_and_kpoints_files)\n",
    "\n",
    "### \n",
    "\n",
    "fig, ax = plt.subplots(figsize=(10,8))\n",
    "colors = 'b'\n",
    "marks = '-'\n",
    "\n",
    "kcoords = df[['new_kpt','kcoord']].drop_duplicates().kcoord.tolist()\n",
    "\n",
    "# Plot Bands\n",
    "nbands = max(df.band)\n",
    "for j in range(nbands):\n",
    "    color = colors\n",
    "    mark = marks\n",
    "    band_to_plot = get_single_band(df, (j+1))\n",
    "    plt.plot(kcoords, band_to_plot, color = color, linestyle = mark)\n",
    "\n",
    "# Mark high symmetry points\n",
    "high_sym_k_pts = get_high_sym_k_pts(df)\n",
    "for i in range(len(high_sym_k_pts[0])):\n",
    "    plt.plot([high_sym_k_pts[0][i], high_sym_k_pts[0][i]], yrange, 'k-', lw=0.5)\n",
    "    if i>0 and high_sym_k_pts[0][i]==high_sym_k_pts[0][i-1]:\n",
    "        ax.annotate(high_sym_k_pts[1][i-1]+'$|$'+high_sym_k_pts[1][i],xy=(0,0), xytext=(high_sym_k_pts[0][i],yrange[0] - 0.3), fontsize = 20)\n",
    "    else:\n",
    "        ax.annotate(high_sym_k_pts[1][i], xy=(0,0), xytext=(high_sym_k_pts[0][i],yrange[0] - 0.3), fontsize = 20)\n",
    "\n",
    "plt.tick_params(axis='x', which='both', bottom='off', top='off', labelbottom='off')\n",
    "plt.tick_params(axis='y', which='major', labelsize=25)\n",
    "\n",
    "ax.set_xlim([0,max(kcoords)])\n",
    "ax.set_ylim([-4,4])\n",
    "ax.set_ylabel(r'E-E_f (eV)', fontsize = 25)\n",
    "ax.xaxis.labelpad = 30\n",
    "\n",
    "band_gap = show_vbm_cbm(df)[2] # If you want to show the band gap somewhere, the value is in here\n",
    "ax.set_title('Band Structure', fontsize = 30)\n",
    "\n",
    "#plt.savefig('figname.png', format='png',pad_inches=.3,dpi=200,bbox_inches='tight')"
   ]
  },
  {
   "cell_type": "code",
   "execution_count": null,
   "metadata": {},
   "outputs": [],
   "source": []
  },
  {
   "cell_type": "code",
   "execution_count": null,
   "metadata": {},
   "outputs": [],
   "source": []
  },
  {
   "cell_type": "code",
   "execution_count": null,
   "metadata": {},
   "outputs": [],
   "source": []
  },
  {
   "cell_type": "code",
   "execution_count": null,
   "metadata": {},
   "outputs": [],
   "source": []
  }
 ],
 "metadata": {
  "kernelspec": {
   "display_name": "Python 3",
   "language": "python",
   "name": "python3"
  },
  "language_info": {
   "codemirror_mode": {
    "name": "ipython",
    "version": 3
   },
   "file_extension": ".py",
   "mimetype": "text/x-python",
   "name": "python",
   "nbconvert_exporter": "python",
   "pygments_lexer": "ipython3",
   "version": "3.6.3"
  }
 },
 "nbformat": 4,
 "nbformat_minor": 2
}
